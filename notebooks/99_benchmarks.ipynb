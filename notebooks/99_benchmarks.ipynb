{
 "cells": [
  {
   "cell_type": "code",
   "execution_count": 1,
   "metadata": {},
   "outputs": [
    {
     "name": "stdout",
     "output_type": "stream",
     "text": [
      "--2020-12-30 00:33:03--  http://s3.amazonaws.com/open.source.geoscience/open_data/newzealand/Taranaiki_Basin/Keri_3D/Kerry3D.segy\n",
      "Resolving s3.amazonaws.com (s3.amazonaws.com)... 52.216.245.70\n",
      "Connecting to s3.amazonaws.com (s3.amazonaws.com)|52.216.245.70|:80... connected.\n",
      "HTTP request sent, awaiting response... 200 OK\n",
      "Length: 1107042960 (1.0G) [application/octet-stream]\n",
      "Saving to: ‘Kerry3D.segy’\n",
      "\n",
      "Kerry3D.segy        100%[===================>]   1.03G  19.2MB/s    in 56s     \n",
      "\n",
      "2020-12-30 00:33:59 (19.0 MB/s) - ‘Kerry3D.segy’ saved [1107042960/1107042960]\n",
      "\n"
     ]
    }
   ],
   "source": [
    "!wget http://s3.amazonaws.com/open.source.geoscience/open_data/newzealand/Taranaiki_Basin/Keri_3D/Kerry3D.segy"
   ]
  },
  {
   "cell_type": "code",
   "execution_count": 2,
   "metadata": {},
   "outputs": [],
   "source": [
    "import numpy as np\n",
    "from numba import vectorize, cuda\n",
    "from struct import unpack\n",
    "from ibm2ieee import ibm2float32 as i2f\n",
    "import segyio\n",
    "from segyio import _segyio\n",
    "import cupy as cp\n",
    "%config Completer.use_jedi = False"
   ]
  },
  {
   "cell_type": "code",
   "execution_count": 3,
   "metadata": {},
   "outputs": [],
   "source": [
    "class ReadBinHdr(object):\n",
    "\n",
    "    ''' Read binary trace header for a trace '''\n",
    "\n",
    "    def __init__(self, bh):\n",
    "        if len(bh) != 400:\n",
    "            print(\"Binary header should be 400 bytes long\")\n",
    "        else:\n",
    "            self.jobid = unpack(\">i\", bh[0:4])[0]\n",
    "            self.line = unpack(\">i\", bh[4:8])[0]\n",
    "            self.reel = unpack(\">i\", bh[8:12])[0]\n",
    "            self.numtrcens = unpack(\">h\", bh[12:14])[0]\n",
    "            self.numauxtrcs = unpack(\">h\", bh[14:16])[0]\n",
    "            self.sampint = unpack(\">h\", bh[16:18])[0]\n",
    "            self.sampint2 = unpack(\">h\", bh[18:20])[0]\n",
    "            self.samppertrc = unpack(\">h\", bh[20:22])[0]\n",
    "            self.samppertrc2 = unpack(\">h\", bh[22:24])[0]\n",
    "            self.datasampcode = unpack(\">h\", bh[24:26])[0]\n",
    "            self.ensfold = unpack(\">h\", bh[26:28])[0]\n",
    "            self.sortcode = unpack(\">h\", bh[28:30])[0]\n",
    "            self.dis_units = unpack(\">h\", bh[54:56])[0]\n",
    "            self.segyformat = unpack(\">h\", bh[300:302])[0] // 256\n",
    "            self.lengthflag = unpack(\">h\", bh[302:304])[0]\n",
    "            self.numexthdrs = unpack(\">h\", bh[304:306])[0]\n",
    "    \n",
    "class ReadTrcHdr(object):\n",
    "    ''' Read Trace header '''\n",
    "    def __init__(self, bh):\n",
    "        if len(bh) != 240:\n",
    "            print(\"Trace Header should be 240 bytes long\")\n",
    "        else:\n",
    "            self.inline = unpack(\">i\", bh[220:224])[0]\n",
    "            self.xline = unpack(\">i\", bh[20:24])[0]\n",
    "            self.sou_x = unpack(\">i\", bh[72:76])[0]\n",
    "            self.sou_y = unpack(\">i\", bh[76:80])[0]"
   ]
  },
  {
   "cell_type": "code",
   "execution_count": 4,
   "metadata": {},
   "outputs": [
    {
     "name": "stdout",
     "output_type": "stream",
     "text": [
      "Starting loop....\n",
      "End scanning .......\n",
      "CPU times: user 542 ms, sys: 413 ms, total: 956 ms\n",
      "Wall time: 961 ms\n"
     ]
    },
    {
     "data": {
      "text/plain": [
       "b'\\x00\\x00\\x00\\x00\\x00\\x00\\x00\\x00\\x00\\x00\\x00\\x00\\x00\\x00\\x00\\x00\\x00\\x00\\x00\\x00\\x00\\x00\\x00\\x00\\xbf\\x94\\xb9_\\xc0\\x1b\\xe2\\xc2\\xc0J\\\\\\xb0\\xc0f?r\\xc0x\\xd6\\x9d\\xc0\\x8bm\\xc9\\xc0\\x94\\xb9_\\xc0\\x94\\xb9_\\xc0S\\xa8F@\\x8bm\\xc9A\\x1d\\xa0\\xeeA%.XA\\x12\\x97,\\xc0.y\\xee\\xc0\\x1b\\xe2\\xc2@\\x82\"3\\x00\\x00\\x00\\x00\\xc1\\x10DF\\xc1\\x18fj'"
      ]
     },
     "execution_count": 4,
     "metadata": {},
     "output_type": "execute_result"
    }
   ],
   "source": [
    "%%time\n",
    "hdrs = []\n",
    "trcs = []\n",
    "with open(\"Kerry3D.segy\",\"rb\") as f:\n",
    "    EBCDIC = f.read(3200)\n",
    "    BIN = ReadBinHdr(f.read(400))\n",
    "    samples_per_trace = BIN.samppertrc\n",
    "    sample_interval = BIN.sampint\n",
    "    idx=1\n",
    "    print(\"Starting loop....\")\n",
    "    while True:\n",
    "        tmp = f.read(240)\n",
    "        if not tmp:\n",
    "            print(\"End scanning .......\")\n",
    "            break\n",
    "        hdr = ReadTrcHdr(tmp).__dict__\n",
    "        trc = f.read(samples_per_trace*4)\n",
    "#         arr = ibmtoieee(np.frombuffer(trc,dtype='>u4'))\n",
    "        hdrs.append(hdr)\n",
    "        trcs.append(trc)\n",
    "        idx+=1\n",
    "data = trcs[10000] #data to perform analysis on\n",
    "data[:100]"
   ]
  },
  {
   "cell_type": "code",
   "execution_count": 5,
   "metadata": {},
   "outputs": [],
   "source": [
    "# the Cuda Kernel code that runs on every unsigned int in array\n",
    "ibm32cupy = cp.RawKernel(r'''\n",
    "extern \"C\" __global__\n",
    "void ibm32cupy(const unsigned int* x1, float* y) {\n",
    "    int tid = blockDim.x * blockIdx.x + threadIdx.x;\n",
    "    unsigned int x = x1[tid];\n",
    "    if (x != 0){\n",
    "        int sign = ((x1[tid] >> 31) & 0x01) * (-2) + 1;\n",
    "        int exponent = (x1[tid] >> 24) & 0x7F;\n",
    "        int tmp = 4 * (exponent - 64);\n",
    "        double p;\n",
    "        if (tmp < 0) {\n",
    "            int po2 = 1 << (abs(tmp));\n",
    "            p = (double)(1.0/po2);\n",
    "        }\n",
    "        else{\n",
    "            p = 1 << tmp;\n",
    "        }\n",
    "        int mantissa = x1[tid] & 0x00ffffff;\n",
    "        float frac = ((float)mantissa / 0x1000000);\n",
    "        y[tid] = sign * frac * p;\n",
    "    }\n",
    "    else{\n",
    "        y[tid] = 0.0;\n",
    "    }    \n",
    "}\n",
    "''', 'ibm32cupy')\n",
    "# vectorized version of regular python function\n",
    "@vectorize(['float32(uint32)'])\n",
    "def ibmpy_vec(data):\n",
    "    if data == 0:\n",
    "        return 0.0\n",
    "    sign = data >> 31 & 0x01\n",
    "    exponent = data >> 24 & 0x7f\n",
    "    mantissa = (data & 0x00ffffff) / float(pow(2, 24))\n",
    "    return (1 - 2 * sign) * mantissa * pow(16.0, exponent - 64)\n",
    "\n",
    "#reguar python\n",
    "def ibmpython(data):\n",
    "    if data == 0:\n",
    "        return 0.0\n",
    "    sign = data >> 31 & 0x01\n",
    "    exponent = data >> 24 & 0x7f\n",
    "    mantissa = (data & 0x00ffffff) / float(pow(2, 24))\n",
    "    return (1 - 2 * sign) * mantissa * pow(16.0, exponent - 64)"
   ]
  },
  {
   "cell_type": "code",
   "execution_count": 6,
   "metadata": {},
   "outputs": [
    {
     "name": "stdout",
     "output_type": "stream",
     "text": [
      "5.12 ms ± 16.2 µs per loop (mean ± std. dev. of 7 runs, 100 loops each)\n"
     ]
    }
   ],
   "source": [
    "# intuitive first attempt of converting. apply a function to every element of an array in loop\n",
    "%timeit np.array([ibmpython(x) for x in np.frombuffer(data,dtype=\">u4\")],dtype=np.float32)"
   ]
  },
  {
   "cell_type": "code",
   "execution_count": 7,
   "metadata": {},
   "outputs": [
    {
     "name": "stdout",
     "output_type": "stream",
     "text": [
      "304 µs ± 1.15 µs per loop (mean ± std. dev. of 7 runs, 1000 loops each)\n"
     ]
    }
   ],
   "source": [
    "#vectorized version of previous attempt. \n",
    "%timeit np.vectorize(ibmpython)(np.frombuffer(data,dtype='>u4'))"
   ]
  },
  {
   "cell_type": "code",
   "execution_count": 8,
   "metadata": {},
   "outputs": [
    {
     "name": "stdout",
     "output_type": "stream",
     "text": [
      "8.47 µs ± 54.6 ns per loop (mean ± std. dev. of 7 runs, 100000 loops each)\n"
     ]
    }
   ],
   "source": [
    "# uses the current industry method of segyio module\n",
    "offset = 3600 + 10001 * (240 + (samples_per_trace * 4))\n",
    "d = np.memmap('Kerry3D.segy', offset = offset, dtype = np.uint32)\n",
    "%timeit segyio.tools.native(d[240:240+samples_per_trace])"
   ]
  },
  {
   "cell_type": "code",
   "execution_count": 9,
   "metadata": {},
   "outputs": [
    {
     "name": "stdout",
     "output_type": "stream",
     "text": [
      "3.78 µs ± 6.36 ns per loop (mean ± std. dev. of 7 runs, 100000 loops each)\n"
     ]
    }
   ],
   "source": [
    "#uses pypi module ibm2ieee which is cython under the hood. https://pypi.org/project/ibm2ieee/\n",
    "%timeit i2f(np.frombuffer(data,dtype=\">u4\"))"
   ]
  },
  {
   "cell_type": "code",
   "execution_count": 10,
   "metadata": {},
   "outputs": [
    {
     "name": "stdout",
     "output_type": "stream",
     "text": [
      "3.12 µs ± 4.86 ns per loop (mean ± std. dev. of 7 runs, 100000 loops each)\n"
     ]
    }
   ],
   "source": [
    "# uses a numba vectorized version of the python function. effectively precompiles to machine code.\n",
    "%timeit ibmpy_vec(np.frombuffer(data,dtype='>u4'))"
   ]
  },
  {
   "cell_type": "code",
   "execution_count": 11,
   "metadata": {},
   "outputs": [
    {
     "name": "stdout",
     "output_type": "stream",
     "text": [
      "2.73 µs ± 3.3 ns per loop (mean ± std. dev. of 7 runs, 100000 loops each)\n"
     ]
    }
   ],
   "source": [
    "# uses cupy with a raw kernel wriiten in cuda. memory output must be preallocated\n",
    "x1 = cp.array(np.frombuffer(data,dtype='>u4'),dtype=cp.uint32)\n",
    "arr = cp.zeros(x1.size, dtype=cp.float32)\n",
    "%timeit ibm32cupy((x1.size,), (1,), (x1, arr))"
   ]
  },
  {
   "cell_type": "code",
   "execution_count": 12,
   "metadata": {},
   "outputs": [],
   "source": [
    "ans = np.array([ibmpython(x) for x in np.frombuffer(data,dtype=\">u4\")],dtype=np.float32)"
   ]
  },
  {
   "cell_type": "code",
   "execution_count": 32,
   "metadata": {},
   "outputs": [
    {
     "data": {
      "text/plain": [
       "0.0"
      ]
     },
     "execution_count": 32,
     "metadata": {},
     "output_type": "execute_result"
    }
   ],
   "source": [
    "np.sum((ans - np.vectorize(ibmpython)(np.frombuffer(data,dtype='>u4')))**2)"
   ]
  },
  {
   "cell_type": "code",
   "execution_count": 37,
   "metadata": {},
   "outputs": [
    {
     "data": {
      "text/plain": [
       "1089.5319"
      ]
     },
     "execution_count": 37,
     "metadata": {},
     "output_type": "execute_result"
    }
   ],
   "source": [
    "np.sum((ans - segyio.tools.native(d[240:240+samples_per_trace],format=1))**2)"
   ]
  },
  {
   "cell_type": "code",
   "execution_count": 34,
   "metadata": {},
   "outputs": [
    {
     "data": {
      "text/plain": [
       "0.0"
      ]
     },
     "execution_count": 34,
     "metadata": {},
     "output_type": "execute_result"
    }
   ],
   "source": [
    "np.sum((ans - i2f(np.frombuffer(data,dtype=\">u4\")))**2)"
   ]
  },
  {
   "cell_type": "code",
   "execution_count": 35,
   "metadata": {},
   "outputs": [
    {
     "data": {
      "text/plain": [
       "0.0"
      ]
     },
     "execution_count": 35,
     "metadata": {},
     "output_type": "execute_result"
    }
   ],
   "source": [
    "np.sum((ans - ibmpy_vec(np.frombuffer(data,dtype='>u4')))**2)"
   ]
  },
  {
   "cell_type": "code",
   "execution_count": 36,
   "metadata": {},
   "outputs": [
    {
     "data": {
      "text/plain": [
       "array(0., dtype=float32)"
      ]
     },
     "execution_count": 36,
     "metadata": {},
     "output_type": "execute_result"
    }
   ],
   "source": [
    "cp.sum((cp.array(ans,dtype=cp.float32) - arr)**2)"
   ]
  },
  {
   "cell_type": "code",
   "execution_count": 46,
   "metadata": {},
   "outputs": [
    {
     "data": {
      "text/plain": [
       "memmap([2915528000, 1553341121, 1847443520, 1716396609, 3260371648,\n",
       "           7411137, 1038031041, 1502600000, 1038030913, 3787002817,\n",
       "        3432793152, 1502599999, 2068651201, 1553340993, 1888818241,\n",
       "        3950058433, 3605214784, 2756382785, 2019865280, 1847443520,\n",
       "        2411539265, 1140979648, 4120524993, 1502600127, 2915528000,\n",
       "        1502600128, 2726329152, 3260371648, 3787002817, 3605214912,\n",
       "        2404128321, 2926849345, 2756382785, 2756382913, 1502600128,\n",
       "        2919438529, 2381485760, 1201086529, 1390285377, 3787002817,\n",
       "        2919438529, 3260371648, 1330178368,  858198337, 3432793280,\n",
       "        1502600128, 3777636672, 3787002689, 3432793280, 3434748353,\n",
       "        3254915649, 1390285377, 1879452353, 1675021760, 4113113921,\n",
       "        1502600127, 1888818369, 3787002689, 3434748225,  505944001,\n",
       "        2567184065, 1502600000,  170466625, 3777636672, 1888818369,\n",
       "        1502600127, 3260371648,  170466753, 1888818241, 3950058305,\n",
       "        2567184065, 3260371648, 1038030913, 2915528000, 1502600127,\n",
       "        3605214912, 2726329152,          0, 2726329280, 1502600000,\n",
       "        3605214784, 3260371648, 3071172800, 1888818369, 3260371520,\n",
       "        2381485632, 1502600128, 1502600127, 2726329152, 3260371648,\n",
       "        2553907648,          0, 2381485632, 2209064000,          0,\n",
       "        2381485760, 3071172672, 1502600127,    7411137, 1390285377,\n",
       "        3434748225,  858198465, 3605214784, 3777636672, 3434748353,\n",
       "        3432793152, 1502600000, 3950058304, 3432793152, 1675021760,\n",
       "        2209064128, 3950058304,          0, 1390285377, 1847443520,\n",
       "         858198465, 3950058432, 3254915649, 3432793280, 3787002817],\n",
       "       dtype=uint32)"
      ]
     },
     "execution_count": 46,
     "metadata": {},
     "output_type": "execute_result"
    }
   ],
   "source": [
    "d[239:240+samples_per_trace][:120]"
   ]
  },
  {
   "cell_type": "code",
   "execution_count": 42,
   "metadata": {},
   "outputs": [
    {
     "data": {
      "text/plain": [
       "array([         0,          0,          0,          0,          0,\n",
       "                0, 3214195039, 3223052994, 3226098864, 3227926386,\n",
       "       3229144733, 3230363081, 3230972255, 3230972255, 3226708038,\n",
       "       1082879433, 1092460782, 1092955736, 1091737388, 3224271342,\n",
       "       3223052994, 1082270259,          0, 3239068742, 3239601770,\n",
       "       3234627299, 3223662168, 3239449476, 3240020577, 1080442738,\n",
       "       1092270415, 1081661085, 3230363081, 3231581429, 1088971172,\n",
       "       1093526836, 1092156195, 3239106816, 3239221036, 1078615216,\n",
       "       1077396868, 3239449476, 3227317212, 1093336470, 3239563696,\n",
       "       3242838006, 1092118122, 1093069956, 1084706955, 1092041975,\n",
       "       3240782044, 3239982503, 1092270415, 3232190603, 1087752825,\n",
       "       1093526836, 3237673168, 3241467365, 3225489690, 1092651149,\n",
       "       1081051911, 1077396868, 1088971172, 3239639843, 3239906357,\n",
       "       1091851608, 1091737388,          0, 1080442738, 3231581429,\n",
       "       3239373329, 1082879433, 1091585094, 3233408951, 3224880516,\n",
       "       1086534477, 3229144733, 3232799777, 1083488607, 1083488607,\n",
       "       3227317212, 3227317212, 1066711391, 1066711391, 3230972255,\n",
       "       3227926386, 1087752825, 1074960172, 3234018125, 1092308489,\n",
       "       1092689222, 3240172870, 3239868283, 1092803442, 1078006042,\n",
       "       3240210944, 1081051911, 1090189520, 3230972255, 3237673168],\n",
       "      dtype=uint32)"
      ]
     },
     "execution_count": 42,
     "metadata": {},
     "output_type": "execute_result"
    }
   ],
   "source": [
    "np.frombuffer(data,dtype=\">u4\")[:100]"
   ]
  },
  {
   "cell_type": "code",
   "execution_count": null,
   "metadata": {},
   "outputs": [],
   "source": []
  }
 ],
 "metadata": {
  "kernelspec": {
   "display_name": "Python 3",
   "language": "python",
   "name": "python3"
  },
  "language_info": {
   "codemirror_mode": {
    "name": "ipython",
    "version": 3
   },
   "file_extension": ".py",
   "mimetype": "text/x-python",
   "name": "python",
   "nbconvert_exporter": "python",
   "pygments_lexer": "ipython3",
   "version": "3.8.5"
  }
 },
 "nbformat": 4,
 "nbformat_minor": 4
}
