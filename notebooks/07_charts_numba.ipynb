{
 "cells": [
  {
   "cell_type": "code",
   "execution_count": null,
   "metadata": {},
   "outputs": [],
   "source": [
    "# enable this to download the file if not already present\n",
    "\n",
    "#!wget http://s3.amazonaws.com/open.source.geoscience/open_data/newzealand/Taranaiki_Basin/Keri_3D/Kerry3D.segy"
   ]
  },
  {
   "cell_type": "code",
   "execution_count": 1,
   "metadata": {},
   "outputs": [],
   "source": [
    "import numpy as np\n",
    "from numba import vectorize, cuda\n",
    "from struct import unpack\n",
    "from ibm2ieee import ibm2float32 as i2f\n",
    "import segyio\n",
    "from segyio import _segyio\n",
    "import cupy as cp\n",
    "%config Completer.use_jedi = False"
   ]
  },
  {
   "cell_type": "code",
   "execution_count": 2,
   "metadata": {},
   "outputs": [],
   "source": [
    "class ReadBinHdr(object):\n",
    "\n",
    "    ''' Read binary trace header for a trace '''\n",
    "\n",
    "    def __init__(self, bh):\n",
    "        if len(bh) != 400:\n",
    "            print(\"Binary header should be 400 bytes long\")\n",
    "        else:\n",
    "            self.jobid = unpack(\">i\", bh[0:4])[0]\n",
    "            self.line = unpack(\">i\", bh[4:8])[0]\n",
    "            self.reel = unpack(\">i\", bh[8:12])[0]\n",
    "            self.numtrcens = unpack(\">h\", bh[12:14])[0]\n",
    "            self.numauxtrcs = unpack(\">h\", bh[14:16])[0]\n",
    "            self.sampint = unpack(\">h\", bh[16:18])[0]\n",
    "            self.sampint2 = unpack(\">h\", bh[18:20])[0]\n",
    "            self.samppertrc = unpack(\">h\", bh[20:22])[0]\n",
    "            self.samppertrc2 = unpack(\">h\", bh[22:24])[0]\n",
    "            self.datasampcode = unpack(\">h\", bh[24:26])[0]\n",
    "            self.ensfold = unpack(\">h\", bh[26:28])[0]\n",
    "            self.sortcode = unpack(\">h\", bh[28:30])[0]\n",
    "            self.dis_units = unpack(\">h\", bh[54:56])[0]\n",
    "            self.segyformat = unpack(\">h\", bh[300:302])[0] // 256\n",
    "            self.lengthflag = unpack(\">h\", bh[302:304])[0]\n",
    "            self.numexthdrs = unpack(\">h\", bh[304:306])[0]\n",
    "    \n",
    "class ReadTrcHdr(object):\n",
    "    ''' Read Trace header '''\n",
    "    def __init__(self, bh):\n",
    "        if len(bh) != 240:\n",
    "            print(\"Trace Header should be 240 bytes long\")\n",
    "        else:\n",
    "            self.inline = unpack(\">i\", bh[220:224])[0]\n",
    "            self.xline = unpack(\">i\", bh[20:24])[0]\n",
    "            self.sou_x = unpack(\">i\", bh[72:76])[0]\n",
    "            self.sou_y = unpack(\">i\", bh[76:80])[0]"
   ]
  },
  {
   "cell_type": "code",
   "execution_count": 3,
   "metadata": {},
   "outputs": [
    {
     "name": "stdout",
     "output_type": "stream",
     "text": [
      "Starting loop....\n",
      "End scanning .......\n",
      "CPU times: user 589 ms, sys: 352 ms, total: 942 ms\n",
      "Wall time: 943 ms\n"
     ]
    },
    {
     "data": {
      "text/plain": [
       "b'\\x00\\x00\\x00\\x00\\x00\\x00\\x00\\x00\\x00\\x00\\x00\\x00\\x00\\x00\\x00\\x00\\x00\\x00\\x00\\x00\\x00\\x00\\x00\\x00_\\xb9\\x94\\xbf\\xc2\\xe2\\x1b\\xc0\\xb0\\\\J\\xc0r?f\\xc0\\x9d\\xd6x\\xc0\\xc9m\\x8b\\xc0_\\xb9\\x94\\xc0_\\xb9\\x94\\xc0F\\xa8S\\xc0\\xc9m\\x8b@\\xee\\xa0\\x1dAX.%A,\\x97\\x12A\\xeey.\\xc0\\xc2\\xe2\\x1b\\xc03\"\\x82@\\x00\\x00\\x00\\x00FD\\x10\\xc1jf\\x18\\xc1'"
      ]
     },
     "execution_count": 3,
     "metadata": {},
     "output_type": "execute_result"
    }
   ],
   "source": [
    "%%time\n",
    "hdrs = []\n",
    "trcs = []\n",
    "with open(\"../Kerry3D.segy\",\"rb\") as f:\n",
    "    EBCDIC = f.read(3200)\n",
    "    BIN = ReadBinHdr(f.read(400))\n",
    "    samples_per_trace = BIN.samppertrc\n",
    "    sample_interval = BIN.sampint\n",
    "    idx=1\n",
    "    print(\"Starting loop....\")\n",
    "    while True:\n",
    "        tmp = f.read(240)\n",
    "        if not tmp:\n",
    "            print(\"End scanning .......\")\n",
    "            break\n",
    "        hdr = ReadTrcHdr(tmp).__dict__\n",
    "        trc = f.read(samples_per_trace*4)\n",
    "#         arr = ibmtoieee(np.frombuffer(trc,dtype='>u4'))\n",
    "        hdrs.append(hdr)\n",
    "        trcs.append(trc)\n",
    "        idx+=1\n",
    "data = trcs[10000] #data to perform analysis on\n",
    "data[:100]"
   ]
  },
  {
   "cell_type": "code",
   "execution_count": 4,
   "metadata": {},
   "outputs": [],
   "source": [
    "# vectorized version of regular python function\n",
    "@vectorize(['float32(uint32)'],target='cpu')\n",
    "def numba_py(data):\n",
    "    if data == 0:\n",
    "        return 0.0\n",
    "    sign = data >> 31 & 0x01\n",
    "    exponent = data >> 24 & 0x7f\n",
    "    mantissa = (data & 0x00ffffff) / float(pow(2, 24))\n",
    "    return (1 - 2 * sign) * mantissa * pow(16.0, exponent - 64)"
   ]
  },
  {
   "cell_type": "code",
   "execution_count": 5,
   "metadata": {},
   "outputs": [],
   "source": [
    "def pure_py(data):\n",
    "    if data == 0:\n",
    "        return 0.0\n",
    "    sign = data >> 31 & 0x01\n",
    "    exponent = data >> 24 & 0x7f\n",
    "    mantissa = (data & 0x00ffffff) / float(pow(2, 24))\n",
    "    return (1 - 2 * sign) * mantissa * pow(16.0, exponent - 64)"
   ]
  },
  {
   "cell_type": "code",
   "execution_count": 6,
   "metadata": {},
   "outputs": [
    {
     "data": {
      "text/plain": [
       "1.541746956846918e+37"
      ]
     },
     "execution_count": 6,
     "metadata": {},
     "output_type": "execute_result"
    }
   ],
   "source": [
    "pure_py(1605997759)"
   ]
  },
  {
   "cell_type": "code",
   "execution_count": 7,
   "metadata": {},
   "outputs": [
    {
     "data": {
      "text/plain": [
       "array([         0,          0,          0,          0,          0,\n",
       "                0, 1605997759, 3269598144, 2958838464, 1916757696,\n",
       "       2648078528, 3379399616, 1605997760, 1605997760, 1185436608,\n",
       "       3379399488, 4003470657, 1479419201,  748098113, 4000919232,\n",
       "       3269598144,  857899584,          0, 1178865857, 1785075905,\n",
       "       3816737984, 1479419328, 2215843521, 1640636097, 1916757568,\n",
       "       1337530945, 2648078400, 3379399616, 4110720704, 2757879872,\n",
       "        887434561,  603658305,   14225601,  748098241, 2958838336,\n",
       "       2227517248, 2215843521, 3706936512, 2533173825, 2966493121,\n",
       "       4140255681, 1785075777, 2230068801, 2337318720, 4147910465,\n",
       "       3697814209, 2805276353, 1337530945, 2337318848, 2043336000,\n",
       "        887434561, 3505978048, 3856479425,  437338560, 2374508609,\n",
       "        126578496, 2227517248, 2757879872,  603658433,  889986497,\n",
       "       1481970753,  748098113,          0, 1916757568, 4110720704,\n",
       "        300553409, 3379399488, 1178865729, 3085416896, 2227517376,\n",
       "       1295237952, 2648078528,  563916992, 1605997632, 1605997632,\n",
       "       3706936512, 3706936512, 1605997631, 1605997631, 1605997760,\n",
       "       1916757696, 2043336000,  748098112, 1295238080,  156113729,\n",
       "       1176314177, 1176314305, 2071403713, 1926963777,  437338432,\n",
       "         11674049,  126578496, 3505977920, 1605997760, 3505978048],\n",
       "      dtype=uint32)"
      ]
     },
     "execution_count": 7,
     "metadata": {},
     "output_type": "execute_result"
    }
   ],
   "source": [
    "np.frombuffer(trcs[10000],dtype='>u4')[:100]"
   ]
  },
  {
   "cell_type": "code",
   "execution_count": 8,
   "metadata": {},
   "outputs": [
    {
     "name": "stderr",
     "output_type": "stream",
     "text": [
      "<ipython-input-8-0b9c17bc8eaf>:2: RuntimeWarning: overflow encountered in numba_py\n",
      "  numba_py(np.frombuffer(trcs[10000],dtype='>u4'))[:100]\n"
     ]
    },
    {
     "data": {
      "text/plain": [
       "array([ 0.00000000e+00,  0.00000000e+00,  0.00000000e+00,  0.00000000e+00,\n",
       "        0.00000000e+00,  0.00000000e+00,  1.54174696e+37, -2.26108398e+02,\n",
       "       -1.95435895e-20,             inf, -6.01157041e-43, -2.94060032e+10,\n",
       "        1.54174708e+37,  1.54174708e+37,  1.10314880e+07, -2.94054789e+10,\n",
       "                  -inf,  1.42813477e+28,  4.88137711e-25,            -inf,\n",
       "       -2.26108398e+02,  2.99316033e-17,  0.00000000e+00,  4.46073700e+06,\n",
       "                   inf,            -inf,  1.42819474e+28, -0.00000000e+00,\n",
       "                   inf,             inf,  8.33627795e+17, -6.01157041e-43,\n",
       "       -2.94060032e+10,            -inf, -7.36572107e-35,  3.18046663e-15,\n",
       "        1.18064180e-35,  0.00000000e+00,  4.88144022e-25, -1.95431759e-20,\n",
       "       -0.00000000e+00, -0.00000000e+00, -4.93597395e+33, -0.00000000e+00,\n",
       "       -4.42771203e-20,            -inf,             inf, -0.00000000e+00,\n",
       "       -0.00000000e+00,            -inf, -2.11275791e+33, -1.63689046e-31,\n",
       "        8.33627795e+17, -0.00000000e+00,             inf,  3.18046663e-15,\n",
       "       -1.79408632e+19,            -inf,  0.00000000e+00, -0.00000000e+00,\n",
       "        0.00000000e+00, -0.00000000e+00, -7.36572107e-35,  1.18065099e-35,\n",
       "        2.69034266e-15,  2.63307113e+28,  4.88137711e-25,  0.00000000e+00,\n",
       "                   inf,            -inf,  0.00000000e+00, -2.94054789e+10,\n",
       "        4.46060900e+06, -1.31720745e-11, -0.00000000e+00,  9.10618966e+14,\n",
       "       -6.01157041e-43,  2.87794867e-38,  1.54173086e+37,  1.54173086e+37,\n",
       "       -4.93597395e+33, -4.93597395e+33,  1.54173073e+37,  1.54173073e+37,\n",
       "        1.54174708e+37,             inf,             inf,  4.88137662e-25,\n",
       "        9.10653326e+14,  0.00000000e+00,  1.90905700e+06,  1.90918500e+06,\n",
       "                   inf,             inf,  0.00000000e+00,  0.00000000e+00,\n",
       "        0.00000000e+00, -1.79407224e+19,  1.54174708e+37, -1.79408632e+19],\n",
       "      dtype=float32)"
      ]
     },
     "execution_count": 8,
     "metadata": {},
     "output_type": "execute_result"
    }
   ],
   "source": [
    "# uses a numba vectorized version of the python function. effectively precompiles to machine code.\n",
    "numba_py(np.frombuffer(trcs[10000],dtype='>u4'))[:100]\n",
    "# %timeit -n 100 -r 7 ibmpy_vec(np.frombuffer(data,dtype='>u4'))"
   ]
  },
  {
   "cell_type": "code",
   "execution_count": null,
   "metadata": {},
   "outputs": [],
   "source": [
    "times_for_numba=[]\n",
    "def ff5(trcs,n):\n",
    "    for i in range(10000,10000+n):\n",
    "        ibmpy_vec(np.frombuffer(trcs[i],dtype='>u4'))\n",
    "for n in range(1,1000,10):\n",
    "    tim4 = %timeit -o -n 100 -r 7 ff5(trcs,n)\n",
    "    times_for_numba.append((n, tim4.average,tim4.stdev))\n",
    "times_for_numba"
   ]
  },
  {
   "cell_type": "code",
   "execution_count": 10,
   "metadata": {},
   "outputs": [],
   "source": [
    "ibm32cupy = cp.RawKernel(r'''\n",
    "extern \"C\" __global__\n",
    "void ibm32cupy(const unsigned int* x1, float* y) {\n",
    "    int tid = blockDim.x * blockIdx.x + threadIdx.x;\n",
    "    unsigned int x = x1[tid];\n",
    "    if (x != 0){\n",
    "        int sign = ((x1[tid] >> 31) & 0x01) * (-2) + 1;\n",
    "        int exponent = (x1[tid] >> 24) & 0x7F;\n",
    "        int tmp = 4 * (exponent - 64);\n",
    "        double p;\n",
    "        if (tmp < 0) {\n",
    "            int po2 = 1 << (abs(tmp));\n",
    "            p = (double)(1.0/po2);\n",
    "        }\n",
    "        else{\n",
    "            p = 1 << tmp;\n",
    "        }\n",
    "        int mantissa = x1[tid] & 0x00ffffff;\n",
    "        float frac = ((float)mantissa / 0x1000000);\n",
    "        y[tid] = sign * frac * p;\n",
    "    }\n",
    "    else{\n",
    "        y[tid] = 0.0;\n",
    "    }    \n",
    "}\n",
    "''', 'ibm32cupy')"
   ]
  },
  {
   "cell_type": "code",
   "execution_count": 11,
   "metadata": {},
   "outputs": [
    {
     "name": "stdout",
     "output_type": "stream",
     "text": [
      "2.65 µs ± 27.2 ns per loop (mean ± std. dev. of 7 runs, 100000 loops each)\n"
     ]
    }
   ],
   "source": [
    "# uses cupy with a raw kernel wriiten in cuda. memory output must be preallocated\n",
    "x1 = cp.array(np.frombuffer(data,dtype='>u4'),dtype=cp.uint32)\n",
    "arr = cp.zeros(x1.size, dtype=cp.float32)\n",
    "%timeit ibm32cupy((x1.size,), (1,), (x1, arr))"
   ]
  },
  {
   "cell_type": "code",
   "execution_count": 12,
   "metadata": {},
   "outputs": [
    {
     "data": {
      "text/plain": [
       "array([ 0.0000000e+00,  0.0000000e+00,  0.0000000e+00,  0.0000000e+00,\n",
       "        0.0000000e+00,  0.0000000e+00,  0.0000000e+00, -2.2610840e+02,\n",
       "                 -inf,  0.0000000e+00,           -inf, -0.0000000e+00,\n",
       "        0.0000000e+00,  0.0000000e+00,  1.1031488e+07, -0.0000000e+00,\n",
       "       -0.0000000e+00,  0.0000000e+00,            inf, -0.0000000e+00,\n",
       "       -2.2610840e+02,            inf,  0.0000000e+00,  4.4607370e+06,\n",
       "        0.0000000e+00, -0.0000000e+00,  0.0000000e+00,           -inf,\n",
       "        0.0000000e+00,  0.0000000e+00,  0.0000000e+00,           -inf,\n",
       "       -0.0000000e+00, -0.0000000e+00,           -inf,            inf,\n",
       "                  inf,            inf,            inf,           -inf,\n",
       "                 -inf,           -inf, -0.0000000e+00,           -inf,\n",
       "                 -inf, -0.0000000e+00,  0.0000000e+00,           -inf,\n",
       "                 -inf, -0.0000000e+00, -0.0000000e+00,           -inf,\n",
       "        0.0000000e+00,           -inf,  0.0000000e+00,            inf,\n",
       "       -0.0000000e+00, -0.0000000e+00,            inf,           -inf,\n",
       "                  inf,           -inf,           -inf,            inf,\n",
       "                  inf,  0.0000000e+00,            inf,  0.0000000e+00,\n",
       "        0.0000000e+00, -0.0000000e+00,            inf, -0.0000000e+00,\n",
       "        4.4606090e+06,           -inf,           -inf,  0.0000000e+00,\n",
       "                 -inf,            inf,  0.0000000e+00,  0.0000000e+00,\n",
       "       -0.0000000e+00, -0.0000000e+00,  0.0000000e+00,  0.0000000e+00,\n",
       "        0.0000000e+00,  0.0000000e+00,  0.0000000e+00,            inf,\n",
       "        0.0000000e+00,            inf,  1.9090570e+06,  1.9091850e+06,\n",
       "        0.0000000e+00,  0.0000000e+00,            inf,            inf,\n",
       "                  inf, -0.0000000e+00,  0.0000000e+00, -0.0000000e+00],\n",
       "      dtype=float32)"
      ]
     },
     "execution_count": 12,
     "metadata": {},
     "output_type": "execute_result"
    }
   ],
   "source": [
    "arr[:100]"
   ]
  },
  {
   "cell_type": "code",
   "execution_count": 14,
   "metadata": {},
   "outputs": [
    {
     "data": {
      "text/plain": [
       "array([ 0.00000000e+00,  0.00000000e+00,  0.00000000e+00,  0.00000000e+00,\n",
       "        0.00000000e+00,  0.00000000e+00,  1.54174696e+37, -2.26108398e+02,\n",
       "       -1.95435895e-20,             inf, -6.01157041e-43, -2.94060032e+10,\n",
       "        1.54174708e+37,  1.54174708e+37,  1.10314880e+07, -2.94054789e+10,\n",
       "                  -inf,  1.42813477e+28,  4.88137711e-25,            -inf,\n",
       "       -2.26108398e+02,  2.99316033e-17,  0.00000000e+00,  4.46073700e+06,\n",
       "                   inf,            -inf,  1.42819474e+28, -0.00000000e+00,\n",
       "                   inf,             inf,  8.33627795e+17, -6.01157041e-43,\n",
       "       -2.94060032e+10,            -inf, -7.36572107e-35,  3.18046663e-15,\n",
       "        1.18064180e-35,  0.00000000e+00,  4.88144022e-25, -1.95431759e-20,\n",
       "       -0.00000000e+00, -0.00000000e+00, -4.93597395e+33, -0.00000000e+00,\n",
       "       -4.42771203e-20,            -inf,             inf, -0.00000000e+00,\n",
       "       -0.00000000e+00,            -inf, -2.11275791e+33, -1.63689046e-31,\n",
       "        8.33627795e+17, -0.00000000e+00,             inf,  3.18046663e-15,\n",
       "       -1.79408632e+19,            -inf,  0.00000000e+00, -0.00000000e+00,\n",
       "        0.00000000e+00, -0.00000000e+00, -7.36572107e-35,  1.18065099e-35,\n",
       "        2.69034266e-15,  2.63307113e+28,  4.88137711e-25,  0.00000000e+00,\n",
       "                   inf,            -inf,  0.00000000e+00, -2.94054789e+10,\n",
       "        4.46060900e+06, -1.31720745e-11, -0.00000000e+00,  9.10618966e+14,\n",
       "       -6.01157041e-43,  2.87794867e-38,  1.54173086e+37,  1.54173086e+37,\n",
       "       -4.93597395e+33, -4.93597395e+33,  1.54173073e+37,  1.54173073e+37,\n",
       "        1.54174708e+37,             inf,             inf,  4.88137662e-25,\n",
       "        9.10653326e+14,  0.00000000e+00,  1.90905700e+06,  1.90918500e+06,\n",
       "                   inf,             inf,  0.00000000e+00,  0.00000000e+00,\n",
       "        0.00000000e+00, -1.79407224e+19,  1.54174708e+37, -1.79408632e+19],\n",
       "      dtype=float32)"
      ]
     },
     "execution_count": 14,
     "metadata": {},
     "output_type": "execute_result"
    }
   ],
   "source": [
    "i2f(np.frombuffer(trcs[10000],dtype=\">u4\"))[:100]"
   ]
  },
  {
   "cell_type": "code",
   "execution_count": 15,
   "metadata": {},
   "outputs": [],
   "source": [
    "def ibmpython(data):\n",
    "    if data == 0:\n",
    "        return 0.0\n",
    "    sign = data >> 31 & 0x01\n",
    "    exponent = data >> 24 & 0x7f\n",
    "    mantissa = (data & 0x00ffffff) / float(pow(2, 24))\n",
    "    return (1 - 2 * sign) * mantissa * pow(16.0, exponent - 64)"
   ]
  },
  {
   "cell_type": "code",
   "execution_count": 17,
   "metadata": {},
   "outputs": [
    {
     "data": {
      "text/plain": [
       "array([ True,  True,  True,  True,  True,  True,  True,  True,  True,\n",
       "        True,  True,  True,  True,  True,  True,  True,  True,  True,\n",
       "        True,  True,  True,  True,  True,  True,  True,  True,  True,\n",
       "        True,  True,  True,  True,  True,  True,  True,  True,  True,\n",
       "        True,  True,  True,  True,  True,  True,  True,  True,  True,\n",
       "        True,  True,  True,  True,  True,  True,  True,  True,  True,\n",
       "        True,  True,  True,  True,  True,  True,  True,  True,  True,\n",
       "        True,  True,  True,  True,  True,  True,  True,  True,  True,\n",
       "        True,  True,  True,  True,  True,  True,  True,  True,  True,\n",
       "        True,  True,  True,  True,  True,  True,  True,  True,  True,\n",
       "        True,  True,  True,  True,  True,  True,  True,  True,  True,\n",
       "        True])"
      ]
     },
     "execution_count": 17,
     "metadata": {},
     "output_type": "execute_result"
    }
   ],
   "source": [
    "np.array([ibmpython(x) for x in np.frombuffer(data,dtype=\">u4\")],dtype=np.float32)[:100] == i2f(np.frombuffer(trcs[10000],dtype=\">u4\"))[:100]"
   ]
  },
  {
   "cell_type": "code",
   "execution_count": 20,
   "metadata": {},
   "outputs": [
    {
     "data": {
      "text/plain": [
       "array([ True,  True,  True,  True,  True,  True, False,  True, False,\n",
       "       False, False, False, False, False,  True, False, False, False,\n",
       "       False, False,  True, False,  True,  True, False, False, False,\n",
       "       False, False, False, False, False, False, False, False, False,\n",
       "       False, False, False, False, False, False, False, False, False,\n",
       "       False, False, False, False, False, False, False, False, False,\n",
       "       False, False, False, False, False, False, False, False, False,\n",
       "       False, False, False, False,  True, False, False, False, False,\n",
       "        True, False, False, False, False, False, False, False, False,\n",
       "       False, False, False, False, False, False, False, False, False,\n",
       "        True,  True, False, False, False, False, False, False, False,\n",
       "       False])"
      ]
     },
     "execution_count": 20,
     "metadata": {},
     "output_type": "execute_result"
    }
   ],
   "source": [
    "i2f(np.frombuffer(trcs[10000],dtype=\">u4\"))[:100] == arr[:100].get()"
   ]
  },
  {
   "cell_type": "code",
   "execution_count": 21,
   "metadata": {},
   "outputs": [
    {
     "name": "stderr",
     "output_type": "stream",
     "text": [
      "<ipython-input-21-ebcc51ff37f2>:1: RuntimeWarning: overflow encountered in numba_py\n",
      "  numba_py(np.frombuffer(trcs[10000],dtype='>u4'))[:100] == i2f(np.frombuffer(trcs[10000],dtype=\">u4\"))[:100]\n"
     ]
    },
    {
     "data": {
      "text/plain": [
       "array([ True,  True,  True,  True,  True,  True,  True,  True,  True,\n",
       "        True,  True,  True,  True,  True,  True,  True,  True,  True,\n",
       "        True,  True,  True,  True,  True,  True,  True,  True,  True,\n",
       "        True,  True,  True,  True,  True,  True,  True,  True,  True,\n",
       "        True,  True,  True,  True,  True,  True,  True,  True,  True,\n",
       "        True,  True,  True,  True,  True,  True,  True,  True,  True,\n",
       "        True,  True,  True,  True,  True,  True,  True,  True,  True,\n",
       "        True,  True,  True,  True,  True,  True,  True,  True,  True,\n",
       "        True,  True,  True,  True,  True,  True,  True,  True,  True,\n",
       "        True,  True,  True,  True,  True,  True,  True,  True,  True,\n",
       "        True,  True,  True,  True,  True,  True,  True,  True,  True,\n",
       "        True])"
      ]
     },
     "execution_count": 21,
     "metadata": {},
     "output_type": "execute_result"
    }
   ],
   "source": [
    "numba_py(np.frombuffer(trcs[10000],dtype='>u4'))[:100] == i2f(np.frombuffer(trcs[10000],dtype=\">u4\"))[:100]"
   ]
  },
  {
   "cell_type": "code",
   "execution_count": null,
   "metadata": {},
   "outputs": [],
   "source": [
    "final = []\n",
    "for x in list(zip(times_for_regular_python,times_for_vectorize_python,times_for_segyio,times_for_i2f,times_for_numba,times_for_cupy)):\n",
    "    tmp = [x[0][0]]\n",
    "    for y in x:\n",
    "        tmp.append(y[1])\n",
    "    final.append(tmp)"
   ]
  },
  {
   "cell_type": "code",
   "execution_count": null,
   "metadata": {},
   "outputs": [],
   "source": []
  },
  {
   "cell_type": "code",
   "execution_count": null,
   "metadata": {},
   "outputs": [],
   "source": []
  },
  {
   "cell_type": "code",
   "execution_count": null,
   "metadata": {},
   "outputs": [],
   "source": [
    "import pandas as pd"
   ]
  },
  {
   "cell_type": "code",
   "execution_count": null,
   "metadata": {},
   "outputs": [],
   "source": [
    "df = pd.DataFrame(final, columns=[\"N\",\"python\",\"vec_python\",\"segyio\",\"i2f\",\"numba\",\"cupy\"])"
   ]
  },
  {
   "cell_type": "code",
   "execution_count": null,
   "metadata": {},
   "outputs": [],
   "source": [
    "import matplotlib.pyplot as plt"
   ]
  },
  {
   "cell_type": "code",
   "execution_count": null,
   "metadata": {},
   "outputs": [],
   "source": [
    "cols = df.columns[1:]\n",
    "for col in cols:\n",
    "    plt.plot(df[\"N\"],df[col]*1000, label=col)\n",
    "plt.legend()\n",
    "plt.xlabel(\"Number of traces converted\")\n",
    "plt.ylabel(\"total time (ms)\")"
   ]
  },
  {
   "cell_type": "code",
   "execution_count": null,
   "metadata": {},
   "outputs": [],
   "source": [
    "cols = df.columns[3:]\n",
    "for col in cols:\n",
    "    plt.plot(df[\"N\"],df[col]*1000, label=col)\n",
    "plt.legend()\n",
    "plt.xlabel(\"Number of traces converted\")\n",
    "plt.ylabel(\"total time (ms)\")"
   ]
  },
  {
   "cell_type": "code",
   "execution_count": null,
   "metadata": {},
   "outputs": [],
   "source": [
    "df2= df.copy()\n",
    "for col in df2.columns[1:]:\n",
    "    df2[col] = np.log10((df2[col])*100000)\n",
    "for col in df2.columns[3:]:\n",
    "    plt.plot(df2[\"N\"],df2[col], label=col)\n",
    "plt.legend()\n",
    "plt.xlabel(\"Number of traces converted\")\n",
    "plt.ylabel(\"Log10 total time (us) \")"
   ]
  },
  {
   "cell_type": "code",
   "execution_count": null,
   "metadata": {},
   "outputs": [],
   "source": []
  }
 ],
 "metadata": {
  "kernelspec": {
   "display_name": "Python 3.8.5 64-bit ('numba': conda)",
   "language": "python",
   "name": "python38564bitnumbaconda7a7e672d51f74b89a6810c98e8254942"
  },
  "language_info": {
   "codemirror_mode": {
    "name": "ipython",
    "version": 3
   },
   "file_extension": ".py",
   "mimetype": "text/x-python",
   "name": "python",
   "nbconvert_exporter": "python",
   "pygments_lexer": "ipython3",
   "version": "3.8.5"
  }
 },
 "nbformat": 4,
 "nbformat_minor": 4
}
