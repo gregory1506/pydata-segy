{
 "cells": [
  {
   "cell_type": "code",
   "execution_count": 1,
   "metadata": {},
   "outputs": [],
   "source": [
    "import numpy as np\n",
    "from numba import vectorize, cuda, jit\n",
    "from struct import unpack\n",
    "import cupy as cp\n",
    "import pandas as pd"
   ]
  },
  {
   "cell_type": "code",
   "execution_count": 2,
   "metadata": {},
   "outputs": [],
   "source": [
    "class ReadBinHdr(object):\n",
    "\n",
    "    ''' Read binary trace header for a trace '''\n",
    "\n",
    "    def __init__(self, bh):\n",
    "        if len(bh) != 400:\n",
    "            print(\"Binary header should be 400 bytes long\")\n",
    "        else:\n",
    "            self.jobid = unpack(\">i\", bh[0:4])[0]\n",
    "            self.line = unpack(\">i\", bh[4:8])[0]\n",
    "            self.reel = unpack(\">i\", bh[8:12])[0]\n",
    "            self.numtrcens = unpack(\">h\", bh[12:14])[0]\n",
    "            self.numauxtrcs = unpack(\">h\", bh[14:16])[0]\n",
    "            self.sampint = unpack(\">h\", bh[16:18])[0]\n",
    "            self.sampint2 = unpack(\">h\", bh[18:20])[0]\n",
    "            self.samppertrc = unpack(\">h\", bh[20:22])[0]\n",
    "            self.samppertrc2 = unpack(\">h\", bh[22:24])[0]\n",
    "            self.datasampcode = unpack(\">h\", bh[24:26])[0]\n",
    "            self.ensfold = unpack(\">h\", bh[26:28])[0]\n",
    "            self.sortcode = unpack(\">h\", bh[28:30])[0]\n",
    "            self.dis_units = unpack(\">h\", bh[54:56])[0]\n",
    "            self.segyformat = unpack(\">h\", bh[300:302])[0] // 256\n",
    "            self.lengthflag = unpack(\">h\", bh[302:304])[0]\n",
    "            self.numexthdrs = unpack(\">h\", bh[304:306])[0]\n",
    "\n",
    "    def __str__(self):\n",
    "        return \"Job ID : {} \\nLine Number : {} \\nReel Number : {}\\\n",
    "                 \\nNumber of traces per ensemble : {} \\nNumber of Aux Traces : {}\\\n",
    "                 \\nSample interval : {}\\nField Sample Interval : {}\\nSample per trace :{}\\\n",
    "                 \\nField Samples per Trace : {} \\nSample Format : {}\\nEnsemble Fold : {}\\\n",
    "                 \\nTrace Sorting Code : {}\\nMeasurement units(1-Meters 2-Feet) : {}\\\n",
    "                 \\nSEGY Format : {}\\nLength Flag(0-Variable 1-Fixed) : {}\\\n",
    "                 \\nNumber of Extended Text : {}\".format(self.jobid, self.line, self.reel, \\\n",
    "                 self.numtrcens, self.numauxtrcs, self.sampint, self.sampint2, self.samppertrc, \\\n",
    "                 self.samppertrc2, self.datasampcode, self.ensfold, self.sortcode, self.dis_units, \\\n",
    "                 self.segyformat, self.lengthflag, self.numexthdrs)\n",
    "    \n",
    "\n",
    "ibm2ieee = cp.RawKernel(r'''\n",
    "extern \"C\" __global__\n",
    "void ibm2ieee(const unsigned int* x1, float* y) {\n",
    "    int tid = blockDim.x * blockIdx.x + threadIdx.x;\n",
    "    unsigned int x = x1[tid];\n",
    "    if (x != 0){\n",
    "        int sign = ((x1[tid] >> 31) & 0x01) * (-2) + 1;\n",
    "        int exponent = (x1[tid] >> 24) & 0x7F;\n",
    "        int tmp = 4 * (exponent - 64);\n",
    "        double p;\n",
    "        if (tmp < 0) {\n",
    "            int po2 = 1 << (abs(tmp));\n",
    "            p = (double)(1.0/po2);\n",
    "        }\n",
    "        else{\n",
    "            p = 1 << tmp;\n",
    "        }\n",
    "        int mantissa = x1[tid] & 0x00ffffff;\n",
    "        float frac = ((float)mantissa / 0x1000000);\n",
    "        y[tid] = sign * frac * p;\n",
    "    }\n",
    "    else{\n",
    "        y[tid] = 0.0;\n",
    "    }    \n",
    "}\n",
    "''', 'ibm2ieee')\n",
    "\n",
    "#reguar python\n",
    "def ibmpython(data):\n",
    "    if data == 0:\n",
    "        return 0.0\n",
    "    sign = data >> 31 & 0x01\n",
    "    exponent = data >> 24 & 0x7f\n",
    "    mantissa = (data & 0x00ffffff) / float(pow(2, 24))\n",
    "    return (1 - 2 * sign) * mantissa * pow(16.0, exponent - 64)\n",
    "#numpy version\n",
    "def ibm32numpy(data):\n",
    "    sign = np.bitwise_and(np.right_shift(data,31),1) * (-2) +1\n",
    "    exponent = np.bitwise_and(np.right_shift(data,24), int('0x7F',0))\n",
    "    p = np.power(16.0, exponent - 64)\n",
    "    mantissa = np.bitwise_and(data, int('0x00ffffff', 0))\n",
    "    frac = mantissa / int('0x1000000', 0)\n",
    "    return sign * frac * p"
   ]
  },
  {
   "cell_type": "code",
   "execution_count": 11,
   "metadata": {},
   "outputs": [],
   "source": [
    "def readsegy(file_loc):\n",
    "    trcs = []\n",
    "    with open(file_loc,\"rb\") as f:\n",
    "        EBCDIC = f.read(3200)\n",
    "        BIN = ReadBinHdr(f.read(400))\n",
    "        samples_per_trace = BIN.samppertrc\n",
    "        sample_interval = BIN.sampint\n",
    "        idx=1\n",
    "        print(\"Starting loop....\")\n",
    "        while True:\n",
    "            tmp = f.read(240)\n",
    "            if not tmp:\n",
    "                print(\"End scanning .......\")\n",
    "                break\n",
    "            trc = f.read(samples_per_trace*4)\n",
    "            trcs.append(trc)\n",
    "            idx+=1\n",
    "            if idx % 10000 == 0:\n",
    "                print(\"reading trace {}\".format(idx))\n",
    "    return trcs"
   ]
  },
  {
   "cell_type": "code",
   "execution_count": 12,
   "metadata": {},
   "outputs": [
    {
     "name": "stdout",
     "output_type": "stream",
     "text": [
      "Starting loop....\n",
      "reading trace 10000\n",
      "reading trace 20000\n",
      "reading trace 30000\n",
      "reading trace 40000\n",
      "reading trace 50000\n",
      "reading trace 60000\n",
      "reading trace 70000\n",
      "reading trace 80000\n",
      "reading trace 90000\n",
      "reading trace 100000\n",
      "reading trace 110000\n",
      "reading trace 120000\n",
      "End scanning .......\n"
     ]
    }
   ],
   "source": [
    "trcs_kerry = readsegy(\"../data/Kerry3D.segy\")"
   ]
  },
  {
   "cell_type": "code",
   "execution_count": 13,
   "metadata": {},
   "outputs": [
    {
     "name": "stdout",
     "output_type": "stream",
     "text": [
      "Starting loop....\n",
      "reading trace 10000\n",
      "End scanning .......\n"
     ]
    }
   ],
   "source": [
    "trcs_4t = readsegy(\"../data/4T_Rapids.segy\")"
   ]
  },
  {
   "cell_type": "code",
   "execution_count": 14,
   "metadata": {},
   "outputs": [
    {
     "data": {
      "text/plain": [
       "b'\\x00\\x00\\x00\\x00\\x00\\x00\\x00\\x00\\x00\\x00\\x00\\x00\\x00\\x00\\x00\\x00\\x00\\x00\\x00\\x00\\x00\\x00\\x00\\x00\\xbf\\x94\\xb9_\\xc0\\x1b\\xe2\\xc2\\xc0J\\\\\\xb0\\xc0f?r\\xc0x\\xd6\\x9d\\xc0\\x8bm\\xc9\\xc0\\x94\\xb9_\\xc0\\x94\\xb9_\\xc0S\\xa8F@\\x8bm\\xc9A\\x1d\\xa0\\xeeA%.XA\\x12\\x97,\\xc0.y\\xee\\xc0\\x1b\\xe2\\xc2@\\x82\"3\\x00\\x00\\x00\\x00\\xc1\\x10DF\\xc1\\x18fj\\xc0\\xcc~\\xe3\\xc0%.X\\xc1\\x16\\x13\\x84\\xc1\\x1e\\xcaa@f?rA\\x1a\\xb9O@x\\xd6\\x9d\\xc0\\x8bm\\xc9\\xc0\\x9e\\x04\\xf5@\\xe8a\\xa4A-\\xe54A\\x18\\xfb#\\xc1\\x10\\xd9\\x00\\xc1\\x12\\x97,@J\\\\\\xb0@7\\xc5\\x84\\xc1\\x16\\x13\\x84\\xc0\\\\\\xf3\\xdcA*\\xfd\\x96\\xc1\\x17\\xd1\\xb0\\xc1I\\xc7\\xf6A\\x18fjA&\\xec\\x84@\\xa7P\\x8bA\\x17<\\xf7\\xc1*h\\xdc\\xc1\\x1e5\\xa7A\\x1a\\xb9O\\xc0\\xa7P\\x8b@\\xd5\\xcayA-\\xe54\\xc0\\xfa\\xf8\\xd0\\xc14\\xdd\\xe5\\xc0A\\x11\\x1aA \\x88\\x8d@o\\x8b\\x07@7\\xc5\\x84@\\xe8a\\xa4\\xc1\\x18\\xfb#\\xc1\\x1d\\x0c5A\\x14UXA\\x12\\x97,\\x00\\x00\\x00\\x00@f?r\\xc0\\x9e\\x04\\xf5\\xc1\\x14\\xea\\x11@\\x8bm\\xc9A\\x10DF\\xc0\\xb9\\xe7\\xb7\\xc07\\xc5\\x84@\\xc33M\\xc0x\\xd6\\x9d\\xc0\\xb0\\x9c!@\\x94\\xb9_@\\x94\\xb9_\\xc0\\\\\\xf3\\xdc\\xc0\\\\\\xf3\\xdc?\\x94\\xb9_?\\x94\\xb9_\\xc0\\x94\\xb9_\\xc0f?r@\\xd5\\xcay@\\x12\\x97,\\xc0\\xc33MA\\x1bN\\tA!\\x1dF\\xc1!\\x1dF\\xc1\\x1cw{A\"\\xdbr@A\\x11\\x1a\\xc1!\\xb2\\x00@o\\x8b\\x07@\\xfa\\xf8\\xd0\\xc0\\x94\\xb9_\\xc0\\xfa\\xf8\\xd0'"
      ]
     },
     "execution_count": 14,
     "metadata": {},
     "output_type": "execute_result"
    }
   ],
   "source": [
    "data_kerry = trcs_kerry[10000]\n",
    "data_kerry[:400]"
   ]
  },
  {
   "cell_type": "code",
   "execution_count": 15,
   "metadata": {},
   "outputs": [
    {
     "data": {
      "text/plain": [
       "b\"\\xbf@\\xb6#\\xbf@t\\xc9\\xbf@\\x0c\\xad\\xbfB\\xed5\\xbfFf\\xa3\\xbfE\\xc5\\x86\\xbfD\\x86w\\xbfD\\xabc\\xbfEFT\\xbfF6\\x8b\\xbfFS\\x0e\\xbfE\\xeeB\\xbfE^\\xf4\\xbfD<\\xae\\xbfC\\xa7h\\xbfD\\x01\\x19\\xbfD\\xc6L\\xbfE\\xebl\\xbfF\\xb9\\x15\\xbfF&Z\\xbfE2\\xee\\xbfF\\x11\\xaf\\xbfGJu\\xbfF\\xea\\xcb\\xbfF<\\x86\\xbfF]\\x19\\xbfG\\x9f\\x86\\xbfIH\\xf0\\xbfJ|y\\xbfK\\x11o\\xbfJ\\xd3\\xc5\\xbfJcS\\xbfJ\\x0f\\xe6\\xbfI\\x91\\x98\\xbfIt\\xd5\\xbfIw\\x19\\xbfH\\xb3\\xa8\\xbfHC\\x04\\xbfId-\\xbfJN\\xf8\\xbfI-C\\xbfE+Y\\xbf8\\xd3\\xc5\\xbf4\\x0b\\x0f?c\\xca\\r?\\xf7=^\\xc0\\x16\\xb5\\x10\\xbf\\xcc\\xd6\\x1f\\xc0+\\x00\\x10\\xc1\\x1by\\xb0\\xc17\\xb6*\\xc18\\xcb\\x14\\xc1+t@\\xc1%\\xd6[\\xc1 \\x9f*\\xc1\\x14U\\xf6\\xc0\\xb1\\xca!\\xc0!\\x9a\\x1c@w \\xb2@\\x86z\\xb1@Y )@9\\xa0\\xe7@\\x185\\x0b@'\\x87l@K\\x92\\x0c@_10@p\\x1d\\x0f@t\\xcfj@li,@d\\xafD@\\x82\\xc5\\x8e@\\x9f\\xf5\\t@\\x8f\\x15\\xfe@\\x81\\x12\\xe3@q\\x82c@m\\xb40@\\x90f\\x85@\\xa7\\xe2\\x85@\\xa6*)@\\x9d\\xefR@\\x8f\\xe8X@\\x83I\\xea@\\x87\\x8e\\xe3@\\x95h\\x8c@\\x9d\\xca\\xed@\\x9f\\x92\\x89@\\x99o\\x8a@\\x90$\\x8f@\\x8d\\xce\\xb5@\\x90\\xa9-@\\x92\\xae\\x00@\\x93Vi@\\x92\\xda @\\x91\\x0f\\xf4@\\x8e\\x11\\xde@\\x8a}z@\\x87\\xa0\\xcf@\\x86\\xb0\\xbf@\\x86\\xfd\\xd8@\\x85\\x1a\\xd8\""
      ]
     },
     "execution_count": 15,
     "metadata": {},
     "output_type": "execute_result"
    }
   ],
   "source": [
    "data_4t = trcs_4t[0]\n",
    "data_4t[:400]"
   ]
  },
  {
   "cell_type": "markdown",
   "metadata": {},
   "source": [
    "### Now to run some benchmarks using two different types of data"
   ]
  },
  {
   "cell_type": "code",
   "execution_count": 18,
   "metadata": {},
   "outputs": [
    {
     "name": "stdout",
     "output_type": "stream",
     "text": [
      "7.86 ms ± 9.19 µs per loop (mean ± std. dev. of 7 runs, 100 loops each)\n"
     ]
    }
   ],
   "source": [
    "# vanilla python applied to list comprehension\n",
    "%timeit np.array([ibmpython(x) for x in np.frombuffer(data_kerry,dtype='>u4')])"
   ]
  },
  {
   "cell_type": "code",
   "execution_count": 19,
   "metadata": {},
   "outputs": [
    {
     "name": "stdout",
     "output_type": "stream",
     "text": [
      "63.8 ms ± 223 µs per loop (mean ± std. dev. of 7 runs, 10 loops each)\n"
     ]
    }
   ],
   "source": [
    "# vanilla python applied to list comprehension\n",
    "%timeit np.array([ibmpython(x) for x in np.frombuffer(data_4t,dtype='>u4')])"
   ]
  },
  {
   "cell_type": "code",
   "execution_count": 27,
   "metadata": {},
   "outputs": [
    {
     "name": "stdout",
     "output_type": "stream",
     "text": [
      "7.9 ms ± 53.9 µs per loop (mean ± std. dev. of 7 runs, 100 loops each)\n"
     ]
    }
   ],
   "source": [
    "%timeit cp.array([ibmpython(x) for x in np.frombuffer(data_kerry,dtype='>u4')])"
   ]
  },
  {
   "cell_type": "code",
   "execution_count": 28,
   "metadata": {},
   "outputs": [
    {
     "name": "stdout",
     "output_type": "stream",
     "text": [
      "63.5 ms ± 401 µs per loop (mean ± std. dev. of 7 runs, 10 loops each)\n"
     ]
    }
   ],
   "source": [
    "%timeit cp.array([ibmpython(x) for x in np.frombuffer(data_4t,dtype='>u4')])"
   ]
  },
  {
   "cell_type": "markdown",
   "metadata": {},
   "source": [
    "### THE time for the 4T data is much larger because it has more data and less zeros"
   ]
  },
  {
   "cell_type": "code",
   "execution_count": 23,
   "metadata": {},
   "outputs": [
    {
     "name": "stdout",
     "output_type": "stream",
     "text": [
      "21 ms ± 49 µs per loop (mean ± std. dev. of 7 runs, 10 loops each)\n"
     ]
    }
   ],
   "source": [
    "%timeit np.array([ibm32numpy(x) for x in np.frombuffer(data_kerry,dtype='>u4')])"
   ]
  },
  {
   "cell_type": "code",
   "execution_count": 24,
   "metadata": {},
   "outputs": [
    {
     "name": "stdout",
     "output_type": "stream",
     "text": [
      "69.2 ms ± 213 µs per loop (mean ± std. dev. of 7 runs, 10 loops each)\n"
     ]
    }
   ],
   "source": [
    "%timeit np.array([ibm32numpy(x) for x in np.frombuffer(data_4t,dtype='>u4')])"
   ]
  },
  {
   "cell_type": "code",
   "execution_count": 25,
   "metadata": {},
   "outputs": [
    {
     "name": "stdout",
     "output_type": "stream",
     "text": [
      "21.1 ms ± 115 µs per loop (mean ± std. dev. of 7 runs, 1 loop each)\n"
     ]
    }
   ],
   "source": [
    "%timeit cp.array([ibm32numpy(x) for x in np.frombuffer(data_kerry,dtype='>u4')])"
   ]
  },
  {
   "cell_type": "code",
   "execution_count": 26,
   "metadata": {},
   "outputs": [
    {
     "name": "stdout",
     "output_type": "stream",
     "text": [
      "69.2 ms ± 111 µs per loop (mean ± std. dev. of 7 runs, 10 loops each)\n"
     ]
    }
   ],
   "source": [
    "%timeit cp.array([ibm32numpy(x) for x in np.frombuffer(data_4t,dtype='>u4')])"
   ]
  },
  {
   "cell_type": "markdown",
   "metadata": {},
   "source": [
    "### it seems the numpy function is not very optimized at all. the addition of a cupy array also had little effect\n",
    "\n",
    "### lets try vectorizing the python function"
   ]
  },
  {
   "cell_type": "code",
   "execution_count": 29,
   "metadata": {},
   "outputs": [
    {
     "name": "stdout",
     "output_type": "stream",
     "text": [
      "429 µs ± 4.84 µs per loop (mean ± std. dev. of 7 runs, 1000 loops each)\n"
     ]
    }
   ],
   "source": [
    "%timeit np.vectorize(ibmpython)(np.frombuffer(data_kerry,dtype='>u4'))"
   ]
  },
  {
   "cell_type": "code",
   "execution_count": 30,
   "metadata": {},
   "outputs": [
    {
     "name": "stdout",
     "output_type": "stream",
     "text": [
      "2.91 ms ± 5.55 µs per loop (mean ± std. dev. of 7 runs, 100 loops each)\n"
     ]
    }
   ],
   "source": [
    "%timeit np.vectorize(ibmpython)(np.frombuffer(data_4t,dtype='>u4'))"
   ]
  },
  {
   "cell_type": "markdown",
   "metadata": {},
   "source": [
    "### This is a amazing result! both data sets experience a 20x uplift in time with only the semantic change to using numpy's vectorize. \n",
    "### but lets see if we can still do better by using a cupy kernel"
   ]
  },
  {
   "cell_type": "code",
   "execution_count": 32,
   "metadata": {},
   "outputs": [
    {
     "name": "stdout",
     "output_type": "stream",
     "text": [
      "4.33 µs ± 11.4 ns per loop (mean ± std. dev. of 7 runs, 100000 loops each)\n"
     ]
    }
   ],
   "source": [
    "x1 = cp.array(np.frombuffer(data_kerry,dtype='>u4'),dtype=cp.uint32)\n",
    "arr = cp.zeros(x1.size, dtype=cp.float32)\n",
    "%timeit ibm2ieee((x1.size,), (1,), (x1, arr))"
   ]
  },
  {
   "cell_type": "code",
   "execution_count": 34,
   "metadata": {},
   "outputs": [
    {
     "name": "stdout",
     "output_type": "stream",
     "text": [
      "12.4 µs ± 637 ns per loop (mean ± std. dev. of 7 runs, 10000 loops each)\n"
     ]
    }
   ],
   "source": [
    "x2 = cp.array(np.frombuffer(data_4t,dtype='>u4'),dtype=cp.uint32)\n",
    "arr2 = cp.zeros(x2.size, dtype=cp.float32)\n",
    "%timeit ibm2ieee((x2.size,), (1,), (x2, arr2))"
   ]
  },
  {
   "cell_type": "markdown",
   "metadata": {},
   "source": [
    "### Wow this is even faster and represents up to a 200x speedup for the larger dataset. This should not really come as a surprise as we are getting closer to c perfromance.\n",
    "### however writing Cuda Kernels can be a challenging and represents a bit of a learning curve for the non CUDA programmer. Lets see if Numba can help us here"
   ]
  },
  {
   "cell_type": "code",
   "execution_count": 39,
   "metadata": {},
   "outputs": [],
   "source": [
    "@vectorize(['float32(uint32)'])\n",
    "def ibmpython_numba(data):\n",
    "    if data == 0:\n",
    "        return 0.0\n",
    "    sign = data >> 31 & 0x01\n",
    "    exponent = data >> 24 & 0x7f\n",
    "    mantissa = (data & 0x00ffffff) / float(pow(2, 24))\n",
    "    return (1 - 2 * sign) * mantissa * pow(16.0, exponent - 64)"
   ]
  },
  {
   "cell_type": "code",
   "execution_count": 42,
   "metadata": {},
   "outputs": [
    {
     "name": "stdout",
     "output_type": "stream",
     "text": [
      "4.54 µs ± 16.4 ns per loop (mean ± std. dev. of 7 runs, 100000 loops each)\n"
     ]
    }
   ],
   "source": [
    "%timeit ibmpython_numba(np.frombuffer(data_kerry,dtype='>u4'))"
   ]
  },
  {
   "cell_type": "code",
   "execution_count": 44,
   "metadata": {},
   "outputs": [
    {
     "name": "stdout",
     "output_type": "stream",
     "text": [
      "18.3 µs ± 24 ns per loop (mean ± std. dev. of 7 runs, 100000 loops each)\n"
     ]
    }
   ],
   "source": [
    "%timeit ibmpython_numba(np.frombuffer(data_4t,dtype='>u4'))"
   ]
  },
  {
   "cell_type": "code",
   "execution_count": null,
   "metadata": {},
   "outputs": [],
   "source": []
  }
 ],
 "metadata": {
  "kernelspec": {
   "display_name": "RAPIDS Stable",
   "language": "python",
   "name": "python3"
  },
  "language_info": {
   "codemirror_mode": {
    "name": "ipython",
    "version": 3
   },
   "file_extension": ".py",
   "mimetype": "text/x-python",
   "name": "python",
   "nbconvert_exporter": "python",
   "pygments_lexer": "ipython3",
   "version": "3.8.5"
  }
 },
 "nbformat": 4,
 "nbformat_minor": 4
}
