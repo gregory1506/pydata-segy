{
 "cells": [
  {
   "cell_type": "code",
   "execution_count": null,
   "metadata": {},
   "outputs": [],
   "source": [
    "# enable this to download the file if not already present\n",
    "\n",
    "#!wget http://s3.amazonaws.com/open.source.geoscience/open_data/newzealand/Taranaiki_Basin/Keri_3D/Kerry3D.segy"
   ]
  },
  {
   "cell_type": "code",
   "execution_count": 1,
   "metadata": {},
   "outputs": [],
   "source": [
    "import numpy as np\n",
    "from numba import vectorize, cuda\n",
    "from struct import unpack\n",
    "from ibm2ieee import ibm2float32 as i2f\n",
    "import segyio\n",
    "from segyio import _segyio\n",
    "import cupy as cp\n",
    "%config Completer.use_jedi = False"
   ]
  },
  {
   "cell_type": "code",
   "execution_count": 2,
   "metadata": {},
   "outputs": [],
   "source": [
    "class ReadBinHdr(object):\n",
    "\n",
    "    ''' Read binary trace header for a trace '''\n",
    "\n",
    "    def __init__(self, bh):\n",
    "        if len(bh) != 400:\n",
    "            print(\"Binary header should be 400 bytes long\")\n",
    "        else:\n",
    "            self.jobid = unpack(\">i\", bh[0:4])[0]\n",
    "            self.line = unpack(\">i\", bh[4:8])[0]\n",
    "            self.reel = unpack(\">i\", bh[8:12])[0]\n",
    "            self.numtrcens = unpack(\">h\", bh[12:14])[0]\n",
    "            self.numauxtrcs = unpack(\">h\", bh[14:16])[0]\n",
    "            self.sampint = unpack(\">h\", bh[16:18])[0]\n",
    "            self.sampint2 = unpack(\">h\", bh[18:20])[0]\n",
    "            self.samppertrc = unpack(\">h\", bh[20:22])[0]\n",
    "            self.samppertrc2 = unpack(\">h\", bh[22:24])[0]\n",
    "            self.datasampcode = unpack(\">h\", bh[24:26])[0]\n",
    "            self.ensfold = unpack(\">h\", bh[26:28])[0]\n",
    "            self.sortcode = unpack(\">h\", bh[28:30])[0]\n",
    "            self.dis_units = unpack(\">h\", bh[54:56])[0]\n",
    "            self.segyformat = unpack(\">h\", bh[300:302])[0] // 256\n",
    "            self.lengthflag = unpack(\">h\", bh[302:304])[0]\n",
    "            self.numexthdrs = unpack(\">h\", bh[304:306])[0]\n",
    "    \n",
    "class ReadTrcHdr(object):\n",
    "    ''' Read Trace header '''\n",
    "    def __init__(self, bh):\n",
    "        if len(bh) != 240:\n",
    "            print(\"Trace Header should be 240 bytes long\")\n",
    "        else:\n",
    "            self.inline = unpack(\">i\", bh[220:224])[0]\n",
    "            self.xline = unpack(\">i\", bh[20:24])[0]\n",
    "            self.sou_x = unpack(\">i\", bh[72:76])[0]\n",
    "            self.sou_y = unpack(\">i\", bh[76:80])[0]"
   ]
  },
  {
   "cell_type": "code",
   "execution_count": 3,
   "metadata": {},
   "outputs": [
    {
     "name": "stdout",
     "output_type": "stream",
     "text": [
      "Starting loop....\n",
      "End scanning .......\n",
      "CPU times: user 486 ms, sys: 475 ms, total: 961 ms\n",
      "Wall time: 965 ms\n"
     ]
    },
    {
     "data": {
      "text/plain": [
       "b'\\x00\\x00\\x00\\x00\\x00\\x00\\x00\\x00\\x00\\x00\\x00\\x00\\x00\\x00\\x00\\x00\\x00\\x00\\x00\\x00\\x00\\x00\\x00\\x00\\xbf\\x94\\xb9_\\xc0\\x1b\\xe2\\xc2\\xc0J\\\\\\xb0\\xc0f?r\\xc0x\\xd6\\x9d\\xc0\\x8bm\\xc9\\xc0\\x94\\xb9_\\xc0\\x94\\xb9_\\xc0S\\xa8F@\\x8bm\\xc9A\\x1d\\xa0\\xeeA%.XA\\x12\\x97,\\xc0.y\\xee\\xc0\\x1b\\xe2\\xc2@\\x82\"3\\x00\\x00\\x00\\x00\\xc1\\x10DF\\xc1\\x18fj'"
      ]
     },
     "execution_count": 3,
     "metadata": {},
     "output_type": "execute_result"
    }
   ],
   "source": [
    "%%time\n",
    "hdrs = []\n",
    "trcs = []\n",
    "with open(\"../Kerry3D.segy\",\"rb\") as f:\n",
    "    EBCDIC = f.read(3200)\n",
    "    BIN = ReadBinHdr(f.read(400))\n",
    "    samples_per_trace = BIN.samppertrc\n",
    "    sample_interval = BIN.sampint\n",
    "    idx=1\n",
    "    print(\"Starting loop....\")\n",
    "    while True:\n",
    "        tmp = f.read(240)\n",
    "        if not tmp:\n",
    "            print(\"End scanning .......\")\n",
    "            break\n",
    "        hdr = ReadTrcHdr(tmp).__dict__\n",
    "        trc = f.read(samples_per_trace*4)\n",
    "#         arr = ibmtoieee(np.frombuffer(trc,dtype='>u4'))\n",
    "        hdrs.append(hdr)\n",
    "        trcs.append(trc)\n",
    "        idx+=1\n",
    "data = trcs[10000] #data to perform analysis on\n",
    "data[:100]"
   ]
  },
  {
   "cell_type": "code",
   "execution_count": 4,
   "metadata": {},
   "outputs": [],
   "source": [
    "# the Cuda Kernel code that runs on every unsigned int in array\n",
    "ibm32cupy = cp.RawKernel(r'''\n",
    "extern \"C\" __global__\n",
    "void ibm32cupy(const unsigned int* x1, float* y) {\n",
    "    int tid = blockDim.x * blockIdx.x + threadIdx.x;\n",
    "    unsigned int x = x1[tid];\n",
    "    if (x != 0){\n",
    "        int sign = ((x1[tid] >> 31) & 0x01) * (-2) + 1;\n",
    "        int exponent = (x1[tid] >> 24) & 0x7F;\n",
    "        int tmp = 4 * (exponent - 64);\n",
    "        double p;\n",
    "        if (tmp < 0) {\n",
    "            int po2 = 1 << (abs(tmp));\n",
    "            p = (double)(1.0/po2);\n",
    "        }\n",
    "        else{\n",
    "            p = 1 << tmp;\n",
    "        }\n",
    "        int mantissa = x1[tid] & 0x00ffffff;\n",
    "        float frac = ((float)mantissa / 0x1000000);\n",
    "        y[tid] = sign * frac * p;\n",
    "    }\n",
    "    else{\n",
    "        y[tid] = 0.0;\n",
    "    }    \n",
    "}\n",
    "''', 'ibm32cupy')\n",
    "# vectorized version of regular python function\n",
    "@vectorize(['float32(uint32)'])\n",
    "def ibmpy_vec(data):\n",
    "    if data == 0:\n",
    "        return 0.0\n",
    "    sign = data >> 31 & 0x01\n",
    "    exponent = data >> 24 & 0x7f\n",
    "    mantissa = (data & 0x00ffffff) / float(pow(2, 24))\n",
    "    return (1 - 2 * sign) * mantissa * pow(16.0, exponent - 64)"
   ]
  },
  {
   "cell_type": "code",
   "execution_count": 5,
   "metadata": {},
   "outputs": [
    {
     "name": "stdout",
     "output_type": "stream",
     "text": [
      "3.69 µs ± 9.51 ns per loop (mean ± std. dev. of 7 runs, 100000 loops each)\n"
     ]
    }
   ],
   "source": [
    "#uses pypi module ibm2ieee which is cython under the hood. https://pypi.org/project/ibm2ieee/\n",
    "%timeit i2f(np.frombuffer(data,dtype=\">u4\"))"
   ]
  },
  {
   "cell_type": "code",
   "execution_count": 46,
   "metadata": {},
   "outputs": [],
   "source": [
    "import dask\n",
    "import timeit"
   ]
  },
  {
   "cell_type": "code",
   "execution_count": 38,
   "metadata": {},
   "outputs": [],
   "source": [
    "def timing_func(trcs, n):\n",
    "    t4 = %timeit -o -q -n 100 -r 5 for k in range(10000,10001+n):i2f(np.frombuffer(trcs[k],dtype=\">u4\"))\n",
    "    return (n, t4.average,t4.stdev)"
   ]
  },
  {
   "cell_type": "code",
   "execution_count": 39,
   "metadata": {},
   "outputs": [
    {
     "data": {
      "text/plain": [
       "(10, 5.1623046019813045e-05, 3.3368964168316334e-06)"
      ]
     },
     "execution_count": 39,
     "metadata": {},
     "output_type": "execute_result"
    }
   ],
   "source": [
    "timing_func(trcs,10)"
   ]
  },
  {
   "cell_type": "code",
   "execution_count": 16,
   "metadata": {},
   "outputs": [],
   "source": [
    "def timing_func2(trcs, n):\n",
    "    t4 = %timeit -o -q -n 100 -r 5 for k in range(10000,10001+n):i2f(np.frombuffer(trcs[k],dtype=\">u4\"))\n",
    "    return (n, t4.average,t4.stdev)"
   ]
  },
  {
   "cell_type": "code",
   "execution_count": 17,
   "metadata": {},
   "outputs": [
    {
     "data": {
      "text/plain": [
       "(10, 5.100327399122762e-05, 1.9426434629144976e-06)"
      ]
     },
     "execution_count": 17,
     "metadata": {},
     "output_type": "execute_result"
    }
   ],
   "source": [
    "timing_func2(trcs,10)"
   ]
  },
  {
   "cell_type": "code",
   "execution_count": 18,
   "metadata": {},
   "outputs": [
    {
     "name": "stdout",
     "output_type": "stream",
     "text": [
      "CPU times: user 1.11 s, sys: 61 µs, total: 1.11 s\n",
      "Wall time: 1.11 s\n"
     ]
    },
    {
     "data": {
      "text/plain": [
       "[(0, 4.109667999728117e-06, 1.19279900516599e-07),\n",
       " (10, 5.604132800363004e-05, 6.507285848887355e-06),\n",
       " (20, 9.714140599680831e-05, 1.5223671533501416e-06),\n",
       " (30, 0.0001455323999907705, 5.082251690361012e-07),\n",
       " (40, 0.000194221670004481, 5.159439568808434e-07),\n",
       " (50, 0.00024249170999974013, 1.738680552089854e-07),\n",
       " (60, 0.00029178346000844615, 5.208036628264847e-07),\n",
       " (70, 0.0003409520099958172, 3.146046081269603e-07),\n",
       " (80, 0.00038915052600350464, 1.1935072699181988e-06),\n",
       " (90, 0.0004394023120112251, 9.206297848943163e-07)]"
      ]
     },
     "execution_count": 18,
     "metadata": {},
     "output_type": "execute_result"
    }
   ],
   "source": [
    "%%time\n",
    "l = []\n",
    "for n in range(0,100,10):\n",
    "    l.append(timing_func2(trcs,n))\n",
    "l"
   ]
  },
  {
   "cell_type": "code",
   "execution_count": 47,
   "metadata": {},
   "outputs": [
    {
     "name": "stdout",
     "output_type": "stream",
     "text": [
      "CPU times: user 19.6 s, sys: 551 ms, total: 20.2 s\n",
      "Wall time: 19.5 s\n"
     ]
    }
   ],
   "source": [
    "%%time\n",
    "ll = []\n",
    "for n in range(0,100,10):\n",
    "    t = dask.delayed(timing_func)(trcs,n)\n",
    "    ll.append(t)\n",
    "ll = dask.compute(*ll)"
   ]
  },
  {
   "cell_type": "code",
   "execution_count": 48,
   "metadata": {},
   "outputs": [
    {
     "data": {
      "text/plain": [
       "((0, 0.001117686279991176, 0.0005116520075115981),\n",
       " (10, 0.0018797069839929462, 0.0010612570041337195),\n",
       " (20, 0.0012848549460031792, 0.0011178622141942032),\n",
       " (30, 0.0011519734460161998, 0.0005489304761720399),\n",
       " (40, 0.00020253404400136788, 0.00033088393246989326),\n",
       " (50, 0.0014421922259934944, 0.0010465412346804565),\n",
       " (60, 0.0019709020699665417, 0.0016022977690459024),\n",
       " (70, 0.0010238773320015754, 0.0008288810339876246),\n",
       " (80, 0.002405309168010717, 0.0016191677743844647),\n",
       " (90, 0.0004707289199868682, 0.0009216995544221529))"
      ]
     },
     "execution_count": 48,
     "metadata": {},
     "output_type": "execute_result"
    }
   ],
   "source": [
    "ll"
   ]
  },
  {
   "cell_type": "code",
   "execution_count": 14,
   "metadata": {},
   "outputs": [
    {
     "name": "stdout",
     "output_type": "stream",
     "text": [
      "0\n",
      "500\n",
      "1000\n",
      "1500\n",
      "2000\n",
      "2500\n",
      "3000\n",
      "3500\n",
      "4000\n",
      "4500\n",
      "5000\n",
      "5500\n",
      "6000\n",
      "6500\n",
      "7000\n",
      "7500\n",
      "8000\n",
      "8500\n",
      "9000\n",
      "9500\n"
     ]
    }
   ],
   "source": [
    "times_for_i2f=[]\n",
    "def ff4(trcs,n):\n",
    "    for i in range(10000,10001+n):\n",
    "        i2f(np.frombuffer(trcs[i],dtype=\">u4\"))\n",
    "for n in range(0,10000,10):\n",
    "    tim3 = %timeit -o -q -n 100 -r 7 ff4(trcs,n)\n",
    "    times_for_i2f.append((n, tim3.average,tim3.stdev))\n",
    "    if n % 500 == 0:\n",
    "        print(n)"
   ]
  },
  {
   "cell_type": "code",
   "execution_count": 38,
   "metadata": {},
   "outputs": [],
   "source": [
    "with open(\"results.json\",\"w\") as jsonfile:\n",
    "    jsonfile.write(json.dumps(final))"
   ]
  },
  {
   "cell_type": "code",
   "execution_count": null,
   "metadata": {},
   "outputs": [],
   "source": []
  }
 ],
 "metadata": {
  "kernelspec": {
   "display_name": "Python 3",
   "language": "python",
   "name": "python3"
  },
  "language_info": {
   "codemirror_mode": {
    "name": "ipython",
    "version": 3
   },
   "file_extension": ".py",
   "mimetype": "text/x-python",
   "name": "python",
   "nbconvert_exporter": "python",
   "pygments_lexer": "ipython3",
   "version": "3.8.5"
  }
 },
 "nbformat": 4,
 "nbformat_minor": 4
}
