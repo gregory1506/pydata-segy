{
 "cells": [
  {
   "cell_type": "code",
   "execution_count": 2,
   "metadata": {},
   "outputs": [],
   "source": [
    "import numpy as np\n",
    "from numba import vectorize\n",
    "from struct import unpack\n",
    "import cupy as cp\n",
    "import pandas as pd"
   ]
  },
  {
   "cell_type": "code",
   "execution_count": 24,
   "metadata": {},
   "outputs": [],
   "source": [
    "class ReadBinHdr(object):\n",
    "\n",
    "    ''' Read binary trace header for a trace '''\n",
    "\n",
    "    def __init__(self, bh):\n",
    "        if len(bh) != 400:\n",
    "            print(\"Binary header should be 400 bytes long\")\n",
    "        else:\n",
    "            self.jobid = unpack(\">i\", bh[0:4])[0]\n",
    "            self.line = unpack(\">i\", bh[4:8])[0]\n",
    "            self.reel = unpack(\">i\", bh[8:12])[0]\n",
    "            self.numtrcens = unpack(\">h\", bh[12:14])[0]\n",
    "            self.numauxtrcs = unpack(\">h\", bh[14:16])[0]\n",
    "            self.sampint = unpack(\">h\", bh[16:18])[0]\n",
    "            self.sampint2 = unpack(\">h\", bh[18:20])[0]\n",
    "            self.samppertrc = unpack(\">h\", bh[20:22])[0]\n",
    "            self.samppertrc2 = unpack(\">h\", bh[22:24])[0]\n",
    "            self.datasampcode = unpack(\">h\", bh[24:26])[0]\n",
    "            self.ensfold = unpack(\">h\", bh[26:28])[0]\n",
    "            self.sortcode = unpack(\">h\", bh[28:30])[0]\n",
    "            self.dis_units = unpack(\">h\", bh[54:56])[0]\n",
    "            self.segyformat = unpack(\">h\", bh[300:302])[0] // 256\n",
    "            self.lengthflag = unpack(\">h\", bh[302:304])[0]\n",
    "            self.numexthdrs = unpack(\">h\", bh[304:306])[0]\n",
    "\n",
    "    def __str__(self):\n",
    "        return \"Job ID : {} \\nLine Number : {} \\nReel Number : {}\\\n",
    "                 \\nNumber of traces per ensemble : {} \\nNumber of Aux Traces : {}\\\n",
    "                 \\nSample interval : {}\\nField Sample Interval : {}\\nSample per trace :{}\\\n",
    "                 \\nField Samples per Trace : {} \\nSample Format : {}\\nEnsemble Fold : {}\\\n",
    "                 \\nTrace Sorting Code : {}\\nMeasurement units(1-Meters 2-Feet) : {}\\\n",
    "                 \\nSEGY Format : {}\\nLength Flag(0-Variable 1-Fixed) : {}\\\n",
    "                 \\nNumber of Extended Text : {}\".format(self.jobid, self.line, self.reel, \\\n",
    "                 self.numtrcens, self.numauxtrcs, self.sampint, self.sampint2, self.samppertrc, \\\n",
    "                 self.samppertrc2, self.datasampcode, self.ensfold, self.sortcode, self.dis_units, \\\n",
    "                 self.segyformat, self.lengthflag, self.numexthdrs)\n",
    "    \n",
    "class ReadTrcHdr(object):\n",
    "    ''' Read Trace header '''\n",
    "    def __init__(self, bh):\n",
    "        if len(bh) != 240:\n",
    "            print(\"Trace Header should be 240 bytes long\")\n",
    "        else:\n",
    "            self.inline = unpack(\">i\", bh[220:224])[0]\n",
    "            self.xline = unpack(\">i\", bh[20:24])[0]\n",
    "            self.sou_x = unpack(\">i\", bh[72:76])[0]\n",
    "            self.sou_y = unpack(\">i\", bh[76:80])[0]\n",
    "\n",
    "    def __str__(self):\n",
    "        return \"##########################START################################\\\n",
    "                \\nLine Sequence Number : {}\\nReel Sequence Number : {}\\\n",
    "                \\nOriginal field record number : {}\\nTrace number within the original field record : {}\\\n",
    "                \\nEnergy source point number : {}\\\n",
    "                \\nYear : {}\\\n",
    "                \\nDay : {}\\\n",
    "                \\nHour : {}\\\n",
    "                \\nMinute : {}\\\n",
    "                \\nSecond : {}\\\n",
    "                \\n##############################END###########################\".format(*list(self.__dict__.values()))\n",
    "\n",
    "ibm2ieee = cp.RawKernel(r'''\n",
    "extern \"C\" __global__\n",
    "void ibm2ieee(const unsigned int* x1, float* y) {\n",
    "    int tid = blockDim.x * blockIdx.x + threadIdx.x;\n",
    "    unsigned int x = x1[tid];\n",
    "    if (x != 0){\n",
    "        int sign = ((x1[tid] >> 31) & 0x01) * (-2) + 1;\n",
    "        int exponent = (x1[tid] >> 24) & 0x7F;\n",
    "        int tmp = 4 * (exponent - 64);\n",
    "        double p;\n",
    "        if (tmp < 0) {\n",
    "            int po2 = 1 << (abs(tmp));\n",
    "            p = (double)(1.0/po2);\n",
    "        }\n",
    "        else{\n",
    "            p = 1 << tmp;\n",
    "        }\n",
    "        int mantissa = x1[tid] & 0x00ffffff;\n",
    "        float frac = ((float)mantissa / 0x1000000);\n",
    "        y[tid] = sign * frac * p;\n",
    "    }\n",
    "    else{\n",
    "        y[tid] = 0.0;\n",
    "    }    \n",
    "}\n",
    "''', 'ibm2ieee')\n",
    "\n",
    "@vectorize(['float32(uint32)'])\n",
    "def ibmtoieee(data):\n",
    "    if data == 0:\n",
    "        return 0.0\n",
    "    sign = data >> 31 & 0x01\n",
    "    exponent = data >> 24 & 0x7f\n",
    "    mantissa = (data & 0x00ffffff) / float(pow(2, 24))\n",
    "    return (1 - 2 * sign) * mantissa * pow(16.0, exponent - 64)\n",
    "\n",
    "#reguar python\n",
    "def ibmpython(data):\n",
    "    if data == 0:\n",
    "        return 0.0\n",
    "    sign = data >> 31 & 0x01\n",
    "    exponent = data >> 24 & 0x7f\n",
    "    mantissa = (data & 0x00ffffff) / float(pow(2, 24))\n",
    "    return (1 - 2 * sign) * mantissa * pow(16.0, exponent - 64)\n",
    "#nupy version\n",
    "def ibm32numpy(data):\n",
    "    sign = np.bitwise_and(np.right_shift(data,31),1) * (-2) +1\n",
    "    exponent = np.bitwise_and(np.right_shift(data,24), int('0x7F',0))\n",
    "    p = np.power(16.0, exponent - 64)\n",
    "    mantissa = np.bitwise_and(data, int('0x00ffffff', 0))\n",
    "    frac = mantissa / int('0x1000000', 0)\n",
    "    return sign * frac * p"
   ]
  },
  {
   "cell_type": "code",
   "execution_count": 15,
   "metadata": {},
   "outputs": [
    {
     "name": "stdout",
     "output_type": "stream",
     "text": [
      "Starting loop....\n",
      "End scanning .......\n"
     ]
    }
   ],
   "source": [
    "hdrs = []\n",
    "trcs = []\n",
    "with open(\"Kerry3D.segy\",\"rb\") as f:\n",
    "    EBCDIC = f.read(3200)\n",
    "    BIN = ReadBinHdr(f.read(400))\n",
    "    samples_per_trace = BIN.samppertrc\n",
    "    sample_interval = BIN.sampint\n",
    "    idx=1\n",
    "    print(\"Starting loop....\")\n",
    "    while True:\n",
    "        tmp = f.read(240)\n",
    "        if not tmp:\n",
    "            print(\"End scanning .......\")\n",
    "            break\n",
    "        hdr = ReadTrcHdr(tmp).__dict__\n",
    "        trc = f.read(samples_per_trace*4)\n",
    "#         arr = ibmtoieee(np.frombuffer(trc,dtype='>u4'))\n",
    "        hdrs.append(hdr)\n",
    "        trcs.append(trc)\n",
    "        idx+=1"
   ]
  },
  {
   "cell_type": "code",
   "execution_count": 17,
   "metadata": {},
   "outputs": [
    {
     "data": {
      "text/plain": [
       "{'inline': 523, 'xline': 503, 'sou_x': 1703290, 'sou_y': 5593917}"
      ]
     },
     "execution_count": 17,
     "metadata": {},
     "output_type": "execute_result"
    }
   ],
   "source": [
    "hdrs[10000]"
   ]
  },
  {
   "cell_type": "code",
   "execution_count": 21,
   "metadata": {},
   "outputs": [],
   "source": [
    "data = trcs[10000]"
   ]
  },
  {
   "cell_type": "code",
   "execution_count": 25,
   "metadata": {},
   "outputs": [
    {
     "name": "stdout",
     "output_type": "stream",
     "text": [
      "414 µs ± 1.63 µs per loop (mean ± std. dev. of 7 runs, 1000 loops each)\n"
     ]
    }
   ],
   "source": [
    "#regular python\n",
    "%timeit np.vectorize(ibmpython)(np.frombuffer(data,dtype='>u4'))"
   ]
  },
  {
   "cell_type": "code",
   "execution_count": 26,
   "metadata": {},
   "outputs": [
    {
     "name": "stdout",
     "output_type": "stream",
     "text": [
      "16.3 ms ± 52.1 µs per loop (mean ± std. dev. of 7 runs, 100 loops each)\n"
     ]
    }
   ],
   "source": [
    "#numpy version\n",
    "%timeit np.vectorize(ibm32numpy)(np.frombuffer(data,dtype='>u4'))"
   ]
  },
  {
   "cell_type": "code",
   "execution_count": 30,
   "metadata": {},
   "outputs": [
    {
     "name": "stdout",
     "output_type": "stream",
     "text": [
      "4.24 µs ± 2.31 ns per loop (mean ± std. dev. of 7 runs, 100000 loops each)\n"
     ]
    }
   ],
   "source": [
    "%timeit ibmtoieee(np.frombuffer(data,dtype='>u4'))"
   ]
  },
  {
   "cell_type": "code",
   "execution_count": 29,
   "metadata": {},
   "outputs": [
    {
     "name": "stdout",
     "output_type": "stream",
     "text": [
      "4.1 µs ± 12.7 ns per loop (mean ± std. dev. of 7 runs, 100000 loops each)\n"
     ]
    }
   ],
   "source": [
    "x1 = cp.array(np.frombuffer(data,dtype='>u4'),dtype=cp.uint32)\n",
    "arr = cp.zeros(x1.size, dtype=cp.float32)\n",
    "%timeit ibm2ieee((x1.size,), (1,), (x1, arr))"
   ]
  },
  {
   "cell_type": "code",
   "execution_count": null,
   "metadata": {},
   "outputs": [],
   "source": []
  }
 ],
 "metadata": {
  "kernelspec": {
   "display_name": "Python 3",
   "language": "python",
   "name": "python3"
  },
  "language_info": {
   "codemirror_mode": {
    "name": "ipython",
    "version": 3
   },
   "file_extension": ".py",
   "mimetype": "text/x-python",
   "name": "python",
   "nbconvert_exporter": "python",
   "pygments_lexer": "ipython3",
   "version": "3.8.5"
  }
 },
 "nbformat": 4,
 "nbformat_minor": 4
}
